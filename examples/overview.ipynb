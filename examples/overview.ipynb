{
 "metadata": {
  "name": "",
  "signature": "sha256:a824a3a09d9a95cd852d1ee3c515796d3b2f2570065100ea33b3e9c26907129e"
 },
 "nbformat": 3,
 "nbformat_minor": 0,
 "worksheets": [
  {
   "cells": [
    {
     "cell_type": "heading",
     "level": 1,
     "metadata": {},
     "source": [
      "Overview of Geometry module"
     ]
    },
    {
     "cell_type": "markdown",
     "metadata": {},
     "source": [
      "The geometry module consists of several classes and functions for working with geometries. Some of the core classes are the `Point`, the `Vector` and the `Quat` representing respectively a point or position in 3D, a vector in 3D and a quaternion which can be used for e.g. rotations."
     ]
    },
    {
     "cell_type": "code",
     "collapsed": false,
     "input": [
      "import numpy as np\n",
      "from geometry import Point, Vector, Quat, Plane, Polygon"
     ],
     "language": "python",
     "metadata": {},
     "outputs": [
      {
       "ename": "ImportError",
       "evalue": "No module named 'geometry'",
       "output_type": "pyerr",
       "traceback": [
        "\u001b[1;31m---------------------------------------------------------------------------\u001b[0m\n\u001b[1;31mImportError\u001b[0m                               Traceback (most recent call last)",
        "\u001b[1;32m<ipython-input-1-6863cad8e67c>\u001b[0m in \u001b[0;36m<module>\u001b[1;34m()\u001b[0m\n\u001b[0;32m      1\u001b[0m \u001b[1;32mimport\u001b[0m \u001b[0mnumpy\u001b[0m \u001b[1;32mas\u001b[0m \u001b[0mnp\u001b[0m\u001b[1;33m\u001b[0m\u001b[0m\n\u001b[1;32m----> 2\u001b[1;33m \u001b[1;32mfrom\u001b[0m \u001b[0mgeometry\u001b[0m \u001b[1;32mimport\u001b[0m \u001b[0mPoint\u001b[0m\u001b[1;33m,\u001b[0m \u001b[0mVector\u001b[0m\u001b[1;33m,\u001b[0m \u001b[0mQuat\u001b[0m\u001b[1;33m,\u001b[0m \u001b[0mPlane\u001b[0m\u001b[1;33m,\u001b[0m \u001b[0mPolygon\u001b[0m\u001b[1;33m\u001b[0m\u001b[0m\n\u001b[0m",
        "\u001b[1;31mImportError\u001b[0m: No module named 'geometry'"
       ]
      }
     ],
     "prompt_number": 1
    },
    {
     "cell_type": "heading",
     "level": 2,
     "metadata": {},
     "source": [
      "Point"
     ]
    },
    {
     "cell_type": "markdown",
     "metadata": {},
     "source": [
      "Let's have a look first at the `Point` class."
     ]
    },
    {
     "cell_type": "markdown",
     "metadata": {},
     "source": [
      "A `Point` has `x`, `y` and `z` attributes."
     ]
    },
    {
     "cell_type": "code",
     "collapsed": false,
     "input": [
      "x = Point(2.0, 3.0, 0.0)\n",
      "print(x.x, x.y, x.z)"
     ],
     "language": "python",
     "metadata": {},
     "outputs": []
    },
    {
     "cell_type": "markdown",
     "metadata": {},
     "source": [
      "Subtracting two points results in a `Vector`."
     ]
    },
    {
     "cell_type": "code",
     "collapsed": false,
     "input": [
      "y = Point(5.0, 2.0, 0.0)\n",
      "y - x"
     ],
     "language": "python",
     "metadata": {},
     "outputs": []
    },
    {
     "cell_type": "markdown",
     "metadata": {},
     "source": [
      "and similarly, adding a `Vector` to a `Point` results in another `Point`."
     ]
    },
    {
     "cell_type": "code",
     "collapsed": false,
     "input": [
      "v = Vector(10, 2, 4)\n",
      "x + v"
     ],
     "language": "python",
     "metadata": {},
     "outputs": []
    },
    {
     "cell_type": "markdown",
     "metadata": {},
     "source": [
      "Determining the distance between points can be done by subtracting one point from another, and then determining the norm of the resulting `Vector`."
     ]
    },
    {
     "cell_type": "code",
     "collapsed": false,
     "input": [
      "(y - x).norm()"
     ],
     "language": "python",
     "metadata": {},
     "outputs": []
    },
    {
     "cell_type": "markdown",
     "metadata": {},
     "source": [
      "This, however, can be done directly using the `distance_to` method."
     ]
    },
    {
     "cell_type": "code",
     "collapsed": false,
     "input": [
      "x.distance_to(y)"
     ],
     "language": "python",
     "metadata": {},
     "outputs": []
    },
    {
     "cell_type": "heading",
     "level": 2,
     "metadata": {},
     "source": [
      "Vector"
     ]
    },
    {
     "cell_type": "markdown",
     "metadata": {},
     "source": [
      "Now let's look at the `Vector` class. Like a `Point` a `Vector` has `x`, `y` and `z` attributes. "
     ]
    },
    {
     "cell_type": "code",
     "collapsed": false,
     "input": [
      "v = Vector(3,4,5)\n",
      "print(v.x, v.y, v.z)"
     ],
     "language": "python",
     "metadata": {},
     "outputs": []
    },
    {
     "cell_type": "markdown",
     "metadata": {},
     "source": [
      "As shown before the `Vector` class is closely related to the `Point` class. Adding a `Point` to a `Vector` results in another `Point`."
     ]
    },
    {
     "cell_type": "code",
     "collapsed": false,
     "input": [
      "v + Point(1,2,3)"
     ],
     "language": "python",
     "metadata": {},
     "outputs": []
    },
    {
     "cell_type": "markdown",
     "metadata": {},
     "source": [
      "Adding two vectors however results in another vector"
     ]
    },
    {
     "cell_type": "code",
     "collapsed": false,
     "input": [
      "v + v"
     ],
     "language": "python",
     "metadata": {},
     "outputs": []
    },
    {
     "cell_type": "markdown",
     "metadata": {},
     "source": [
      "and adding a scalar adds the scalar value to each component of the vector."
     ]
    },
    {
     "cell_type": "code",
     "collapsed": false,
     "input": [
      "v + 3"
     ],
     "language": "python",
     "metadata": {},
     "outputs": []
    },
    {
     "cell_type": "markdown",
     "metadata": {},
     "source": [
      "Multiplying a vector with a scalar changes the norm of the vector and each of its components."
     ]
    },
    {
     "cell_type": "code",
     "collapsed": false,
     "input": [
      "v * 3.0"
     ],
     "language": "python",
     "metadata": {},
     "outputs": []
    },
    {
     "cell_type": "markdown",
     "metadata": {},
     "source": [
      "while multiplying a vector with another vector calculates the dot product"
     ]
    },
    {
     "cell_type": "code",
     "collapsed": false,
     "input": [
      "v * Vector(5,2,1)"
     ],
     "language": "python",
     "metadata": {},
     "outputs": []
    },
    {
     "cell_type": "markdown",
     "metadata": {},
     "source": [
      "which can also be calculated explicitly using the `dot` method"
     ]
    },
    {
     "cell_type": "code",
     "collapsed": false,
     "input": [
      "v.dot(Vector(5,2,1))"
     ],
     "language": "python",
     "metadata": {},
     "outputs": []
    },
    {
     "cell_type": "markdown",
     "metadata": {},
     "source": [
      "The cross product can also be calculated using the `cross` method"
     ]
    },
    {
     "cell_type": "code",
     "collapsed": false,
     "input": [
      "v.cross(Vector(5,2,1))"
     ],
     "language": "python",
     "metadata": {},
     "outputs": []
    },
    {
     "cell_type": "markdown",
     "metadata": {},
     "source": [
      "Besides the normal arithmetic operators `Vector` also supports in-place operators."
     ]
    },
    {
     "cell_type": "code",
     "collapsed": false,
     "input": [
      "v *= 5.0\n",
      "print(v)"
     ],
     "language": "python",
     "metadata": {},
     "outputs": []
    },
    {
     "cell_type": "markdown",
     "metadata": {},
     "source": [
      "The norm of a `Vector` can be obtained by using the `abs` function or `norm` method"
     ]
    },
    {
     "cell_type": "code",
     "collapsed": false,
     "input": [
      "print(abs(v))\n",
      "print(v.norm())"
     ],
     "language": "python",
     "metadata": {},
     "outputs": []
    },
    {
     "cell_type": "markdown",
     "metadata": {},
     "source": [
      "A normalized copy of a `Vector` can be obtained by"
     ]
    },
    {
     "cell_type": "code",
     "collapsed": false,
     "input": [
      "v.normalized()"
     ],
     "language": "python",
     "metadata": {},
     "outputs": []
    },
    {
     "cell_type": "markdown",
     "metadata": {},
     "source": [
      "It's also possible to normalize a `Vector` in-place."
     ]
    },
    {
     "cell_type": "code",
     "collapsed": false,
     "input": [
      "v.normalize()"
     ],
     "language": "python",
     "metadata": {},
     "outputs": []
    },
    {
     "cell_type": "markdown",
     "metadata": {},
     "source": [
      "Determining whether a `Vector` is a unit vector is simple, using the `unit` method"
     ]
    },
    {
     "cell_type": "code",
     "collapsed": false,
     "input": [
      "print(v.unit())\n",
      "print(Vector(0,1,0).unit())\n",
      "print(Vector(0,2,0).unit())"
     ],
     "language": "python",
     "metadata": {},
     "outputs": []
    },
    {
     "cell_type": "markdown",
     "metadata": {},
     "source": [
      "Finally, a `Vector` can be rotated using a `Quat` or quaternion."
     ]
    },
    {
     "cell_type": "code",
     "collapsed": false,
     "input": [
      "quat = Quat.from_angle_and_axis(np.deg2rad(45.0), Vector(0,1,1)) # Create rotation quaternion given an angle and an axis\n",
      "v = Vector(5, 0, 0) # Vector to be rotated\n",
      "v.rotate(quat)"
     ],
     "language": "python",
     "metadata": {},
     "outputs": []
    },
    {
     "cell_type": "heading",
     "level": 2,
     "metadata": {},
     "source": [
      "Quaternion"
     ]
    },
    {
     "cell_type": "markdown",
     "metadata": {},
     "source": [
      "As was shown in the previous section a quaternion represented by `Quat` can be used to rotate a `Vector`.\n",
      "A quaternion consists of 4 numbers. The first number is the scalar part and the other 3 numbers form to be a `Vector`.\n"
     ]
    },
    {
     "cell_type": "code",
     "collapsed": false,
     "input": [
      "a = Quat(5., 6., 7., 8.)\n",
      "b = Quat(8., 7., 6., 5.)"
     ],
     "language": "python",
     "metadata": {},
     "outputs": []
    },
    {
     "cell_type": "markdown",
     "metadata": {},
     "source": [
      "Quaternions can be added to each other"
     ]
    },
    {
     "cell_type": "code",
     "collapsed": false,
     "input": [
      "a + b"
     ],
     "language": "python",
     "metadata": {},
     "outputs": []
    },
    {
     "cell_type": "markdown",
     "metadata": {},
     "source": [
      "or subtracted"
     ]
    },
    {
     "cell_type": "code",
     "collapsed": false,
     "input": [
      "a - b"
     ],
     "language": "python",
     "metadata": {},
     "outputs": []
    },
    {
     "cell_type": "markdown",
     "metadata": {},
     "source": [
      "Multiplication of quaternions is non-commutative"
     ]
    },
    {
     "cell_type": "code",
     "collapsed": false,
     "input": [
      "print(a*b)\n",
      "print(b*a)"
     ],
     "language": "python",
     "metadata": {},
     "outputs": []
    },
    {
     "cell_type": "markdown",
     "metadata": {},
     "source": [
      "while quaternion-scalar (or scalar-quaternion) multiplication is"
     ]
    },
    {
     "cell_type": "code",
     "collapsed": false,
     "input": [
      "print(3.0*a)\n",
      "print(a*3.0)"
     ],
     "language": "python",
     "metadata": {},
     "outputs": []
    },
    {
     "cell_type": "markdown",
     "metadata": {},
     "source": [
      "Quaternions can be used to represent rotations. In such a case the quaternion has to be a unit quaternion, or versor. Let's consider a rotation along the z-axis of +90 degrees."
     ]
    },
    {
     "cell_type": "code",
     "collapsed": false,
     "input": [
      "axis = Vector(0.0, 0.0, 1.0)\n",
      "angle = np.deg2rad(90.0)\n",
      "quat = Quat.from_angle_and_axis(angle, axis)\n",
      "print(quat)"
     ],
     "language": "python",
     "metadata": {},
     "outputs": []
    },
    {
     "cell_type": "markdown",
     "metadata": {},
     "source": [
      "We can now apply such rotation to a vector"
     ]
    },
    {
     "cell_type": "code",
     "collapsed": false,
     "input": [
      "vector = Vector(5.0, 0.0, 0.0)\n",
      "vector.rotate(quat)"
     ],
     "language": "python",
     "metadata": {},
     "outputs": []
    },
    {
     "cell_type": "heading",
     "level": 2,
     "metadata": {},
     "source": [
      "Polygon"
     ]
    },
    {
     "cell_type": "markdown",
     "metadata": {},
     "source": [
      "A polygon consists of a set of points"
     ]
    },
    {
     "cell_type": "code",
     "collapsed": false,
     "input": [
      "a = Point(0.0, 0.0, 0.0)\n",
      "b = Point(0.0, 1.0, 0.0)\n",
      "c = Point(1.0, 1.0, 0.0)\n",
      "d = Point(1.0, 0.0, 0.0)\n",
      "center = Point(0.5, 0.5, 0.0)\n",
      "p = Polygon([a,b,c,d], center)"
     ],
     "language": "python",
     "metadata": {},
     "outputs": []
    },
    {
     "cell_type": "markdown",
     "metadata": {},
     "source": [
      "Currently the center of a polygon has to be specified manually. However, this shouldn't be necessary anymore in the near future."
     ]
    },
    {
     "cell_type": "markdown",
     "metadata": {},
     "source": [
      "The area of the polygon can be obtained using the area method"
     ]
    },
    {
     "cell_type": "code",
     "collapsed": false,
     "input": [
      "p.area()"
     ],
     "language": "python",
     "metadata": {},
     "outputs": []
    },
    {
     "cell_type": "markdown",
     "metadata": {},
     "source": [
      "A polygon is a set of points in a plane. We can get the plane using the `plane` method"
     ]
    },
    {
     "cell_type": "code",
     "collapsed": false,
     "input": [
      "pl = p.plane()"
     ],
     "language": "python",
     "metadata": {},
     "outputs": []
    },
    {
     "cell_type": "markdown",
     "metadata": {},
     "source": [
      "and the normal of the polygon via the plane"
     ]
    },
    {
     "cell_type": "code",
     "collapsed": false,
     "input": [
      "p.plane().normal()"
     ],
     "language": "python",
     "metadata": {},
     "outputs": []
    },
    {
     "cell_type": "heading",
     "level": 2,
     "metadata": {},
     "source": [
      "Plane"
     ]
    },
    {
     "cell_type": "markdown",
     "metadata": {},
     "source": [
      "If we have a plane and a line specified by two points, we can determine whether the plane and line intersect. The method distinguishes between two types of intersections, point and line. In this case, we have a point intersection."
     ]
    },
    {
     "cell_type": "code",
     "collapsed": false,
     "input": [
      "pl.intersects(Point(0.5, 0.5, 0.5), Point(0.5, 0.5, -0.5))"
     ],
     "language": "python",
     "metadata": {},
     "outputs": []
    },
    {
     "cell_type": "markdown",
     "metadata": {},
     "source": [
      "The point of intersection can be obtained with the `intersection` method"
     ]
    },
    {
     "cell_type": "code",
     "collapsed": false,
     "input": [
      "pl.intersection(Point(0.5, 0.5, 0.5), Point(0.5, 0.5, -0.5))"
     ],
     "language": "python",
     "metadata": {},
     "outputs": []
    },
    {
     "cell_type": "markdown",
     "metadata": {},
     "source": [
      "Besides the default constructor which requires the reduced normal form, it is possible to construct a plane using several alternative constructors."
     ]
    }
   ],
   "metadata": {}
  }
 ]
}